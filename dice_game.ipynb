{
 "metadata": {
  "name": "",
  "signature": "sha256:8c799cf92c4952093b5763acbf7d5d08ba9bd61fb8da2793dbe1d6d5fe708b28"
 },
 "nbformat": 3,
 "nbformat_minor": 0,
 "worksheets": [
  {
   "cells": [
    {
     "cell_type": "code",
     "collapsed": false,
     "input": [
      "import random as r"
     ],
     "language": "python",
     "metadata": {},
     "outputs": [],
     "prompt_number": 4
    },
    {
     "cell_type": "code",
     "collapsed": false,
     "input": [
      "def roll_dice():\n",
      "    return r.randrange(5) + 1"
     ],
     "language": "python",
     "metadata": {},
     "outputs": [],
     "prompt_number": 16
    },
    {
     "cell_type": "code",
     "collapsed": false,
     "input": [
      "# start with 10, but remove a certain number of dice\n",
      "num_dice = 7\n",
      "\n",
      "num_dice -= roll_dice()\n",
      "\n",
      "print num_dice"
     ],
     "language": "python",
     "metadata": {},
     "outputs": [
      {
       "output_type": "stream",
       "stream": "stdout",
       "text": [
        "4\n"
       ]
      }
     ],
     "prompt_number": 52
    },
    {
     "cell_type": "code",
     "collapsed": false,
     "input": [
      "scores = []\n",
      "for i in xrange(5):\n",
      "    scores.append(roll_dice())\n",
      "\n",
      "print \"rolling with \" + str(num_dice) + \" dice\"\n",
      "print \"min value: \" + str(num_dice * 1)\n",
      "print \"max value: \" + str(num_dice * 6)     \n",
      "print scores\n",
      "print sum(scores)"
     ],
     "language": "python",
     "metadata": {},
     "outputs": [
      {
       "output_type": "stream",
       "stream": "stdout",
       "text": [
        "rolling with 4 dice\n",
        "min value: 4\n",
        "max value: 24\n",
        "[3, 1, 4, 5, 3]\n",
        "16\n"
       ]
      }
     ],
     "prompt_number": 61
    },
    {
     "cell_type": "code",
     "collapsed": false,
     "input": [],
     "language": "python",
     "metadata": {},
     "outputs": []
    }
   ],
   "metadata": {}
  }
 ]
}